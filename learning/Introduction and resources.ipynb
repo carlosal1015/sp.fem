{
 "cells": [
  {
   "cell_type": "markdown",
   "metadata": {},
   "source": [
    "# Introduction\n",
    "\n",
    "This directory contains references for learning the finite element method and examples of applying sp.fem Python library."
   ]
  },
  {
   "cell_type": "markdown",
   "metadata": {},
   "source": [
    "# References\n",
    "\n",
    "What follows is a non-comprehensive list of books on finite elements that the author has found useful.\n",
    "\n",
    "* Mats G. Larson, Fredrik Bengzon. The Finite Element Method: Theory, Implementation, and Applications.\n",
    "* Dietrich Braess. Finite Elements: Theory, Fast Solvers, and Applications in Solid Mechanics.\n",
    "* Brenner, Susanne, Scott, Ridgway. The Mathematical Theory of Finite Element Methods.\n",
    "* Philippe G. Ciarlet. The Finite Element Method for Elliptic Problems.\n",
    "* Claes Johnson. Numerical Solution of Partial Differential Equations by the Finite Element Method.\n",
    "* Daniele Boffi, Franco Brezzi, Michael Fortin. Mixed Finite Element Methods and Applications."
   ]
  },
  {
   "cell_type": "markdown",
   "metadata": {},
   "source": [
    "# Examples\n",
    "\n",
    "The other files in the directory contain examples for using the library. In the future I hope to write an introduction text to the finite element method, computational approach, using the library as a computational tool. Currently I do not have the extra time so the examples have to suffice."
   ]
  }
 ],
 "metadata": {
  "anaconda-cloud": {},
  "kernelspec": {
   "display_name": "Python [conda env:spfemenv]",
   "language": "python",
   "name": "conda-env-spfemenv-py"
  },
  "language_info": {
   "codemirror_mode": {
    "name": "ipython",
    "version": 2
   },
   "file_extension": ".py",
   "mimetype": "text/x-python",
   "name": "python",
   "nbconvert_exporter": "python",
   "pygments_lexer": "ipython2",
   "version": "2.7.12"
  }
 },
 "nbformat": 4,
 "nbformat_minor": 1
}
